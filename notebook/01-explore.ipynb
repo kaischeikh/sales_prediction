{
 "cells": [
  {
   "cell_type": "markdown",
   "id": "dbe89dc5",
   "metadata": {},
   "source": [
    "# 01 Explore data"
   ]
  },
  {
   "cell_type": "code",
   "execution_count": null,
   "id": "1a8a5624",
   "metadata": {},
   "outputs": [],
   "source": [
    "from pathlib import Path\n",
    "from collections import Counter\n",
    "\n",
    "import pandas as pd\n",
    "import numpy as np\n",
    "import geopandas as gpd\n",
    "\n",
    "import matplotlib.pyplot as plt\n",
    "import seaborn as sns\n",
    "import plotly.express as px"
   ]
  },
  {
   "cell_type": "code",
   "execution_count": null,
   "id": "38c5ceac",
   "metadata": {},
   "outputs": [],
   "source": [
    "sns.set_style(\"darkgrid\", {\"grid.color\": \".6\", \"grid.linestyle\": \":\"})"
   ]
  },
  {
   "cell_type": "code",
   "execution_count": null,
   "id": "37bcd04d",
   "metadata": {},
   "outputs": [],
   "source": [
    "NOTEBOOK_FOLDER = Path().cwd()\n",
    "DATA_FOLDER = NOTEBOOK_FOLDER.parent / \"data\"\n",
    "DATA_PATH = DATA_FOLDER / \"supertore.csv\""
   ]
  },
  {
   "cell_type": "markdown",
   "id": "8050f9c9",
   "metadata": {},
   "source": [
    "## EDA"
   ]
  },
  {
   "cell_type": "code",
   "execution_count": null,
   "id": "4c6cf484",
   "metadata": {},
   "outputs": [],
   "source": [
    "data = pd.read_csv(DATA_PATH, encoding=\"cp1252\", index_col=0)"
   ]
  },
  {
   "cell_type": "code",
   "execution_count": null,
   "id": "01fadb19",
   "metadata": {},
   "outputs": [],
   "source": [
    "data.describe(include=\"all\")"
   ]
  },
  {
   "cell_type": "code",
   "execution_count": null,
   "id": "a8b1dff3",
   "metadata": {},
   "outputs": [],
   "source": [
    "data.isna().mean() * 100"
   ]
  },
  {
   "cell_type": "code",
   "execution_count": null,
   "id": "556f1923",
   "metadata": {},
   "outputs": [],
   "source": [
    "data.dtypes.sort_values()"
   ]
  },
  {
   "cell_type": "markdown",
   "id": "3b409bf3",
   "metadata": {},
   "source": [
    "We got a total of 20 columns:\n",
    "* Main target for the 1st stage is to predict `Sales`.\n",
    "* There are 3 columns that could be correlated with target are `[\"Quantity\", \"Discount\", \"Profit\"]`, This columns will be discarded at this stage.\n",
    "* There is an `Order ID`, `Customer Name` and `Custormer ID` columns that could create data leakage as well. Woth investigating\n",
    "* `Country` is useless as all deals in the usa.\n",
    "* The rest of the columns are:\n",
    "> * `Catgorical`:  \n",
    "> > * `Spatial`: `[\"State\", \"City\", \"Region\"]`\n",
    "> > * `Product`: `[\"Product Name\", \"Catgory\", \"Sub-Category\", \"Product ID\"]`\n",
    "> > * `Other`: `[\"Ship Mode\", \"Segment\"]`\n",
    "> * `Numerical`:  \n",
    "> > * `Temporal`: `[\"Order Data\", \"Ship Date\"]`\n",
    "> > * `Spatial`: `[\"Postat Code\"]`"
   ]
  },
  {
   "cell_type": "code",
   "execution_count": null,
   "id": "0f2ddde8",
   "metadata": {},
   "outputs": [],
   "source": [
    "TARGET_COLUMNS = [\"Sales\", \"Discount\", \"Quantity\", \"Profit\"]"
   ]
  },
  {
   "cell_type": "code",
   "execution_count": null,
   "id": "1915a655",
   "metadata": {},
   "outputs": [],
   "source": [
    "data = data.drop(columns=[\"Country\"])"
   ]
  },
  {
   "cell_type": "code",
   "execution_count": null,
   "id": "394ba6d6",
   "metadata": {},
   "outputs": [],
   "source": [
    "sns.histplot(data=data[\"Sales\"], stat=\"frequency\", bins=100)\n",
    "plt.title(\"Sales distribution\")\n",
    "plt.show()"
   ]
  },
  {
   "cell_type": "code",
   "execution_count": null,
   "id": "5e11150f",
   "metadata": {},
   "outputs": [],
   "source": [
    "fig, ax = plt.subplots(2, 2, figsize=(16, 8))\n",
    "for col, my_ax in zip(TARGET_COLUMNS, ax.flatten()):\n",
    "    sns.histplot(data=data[col], stat=\"frequency\", ax=my_ax)\n",
    "    my_ax.set_title(f\"{col} distribution\")\n",
    "plt.tight_layout()\n",
    "plt.show()"
   ]
  },
  {
   "cell_type": "markdown",
   "id": "b1ff8f0b",
   "metadata": {},
   "source": [
    "* The `Sales` seems to follow a positive distribution, highly concentrated on the left side with a long tail.\n",
    "* The `Discount` is a nominal field highly concentrated on values multiplier of 10.\n",
    "* The `Quality` follow a csort of Gamma distribution that is concentrated on values between 0 and 7\n",
    "* Thhe `Profit` column highly concentrated closely to 0 but higher than 0. But the form suggest a gaussian distribution."
   ]
  },
  {
   "cell_type": "code",
   "execution_count": null,
   "id": "1ae703cf",
   "metadata": {},
   "outputs": [],
   "source": [
    "sns.pairplot(\n",
    "    data[TARGET_COLUMNS]\n",
    ")"
   ]
  },
  {
   "cell_type": "markdown",
   "id": "e10a5492",
   "metadata": {},
   "source": [
    "### Check categorical columns"
   ]
  },
  {
   "cell_type": "code",
   "execution_count": null,
   "id": "f7889db3",
   "metadata": {},
   "outputs": [],
   "source": [
    "pd.Series(Counter(data[\"State\"])).plot.bar()\n",
    "plt.title(\"State distribution\")\n",
    "plt.xticks(rotation=90)\n",
    "plt.tight_layout()\n",
    "plt.show()"
   ]
  },
  {
   "cell_type": "code",
   "execution_count": null,
   "id": "52f7d6a7",
   "metadata": {},
   "outputs": [],
   "source": [
    "# %%bash\n",
    "# cd ../data/\n",
    "# mkdir -p ne_100m\n",
    "# mv ne_110m_admin_1_states_provinces.zip ne_100m/\n",
    "# cd ne_100m\n",
    "# unzip ne_110m_admin_1_states_provinces.zip\n",
    "# ls"
   ]
  },
  {
   "cell_type": "code",
   "execution_count": null,
   "id": "29e65be1",
   "metadata": {},
   "outputs": [],
   "source": [
    "world = gpd.read_file(DATA_FOLDER/\"ne_100m\"/\"ne_110m_admin_1_states_provinces.shp\")"
   ]
  },
  {
   "cell_type": "code",
   "execution_count": null,
   "id": "cfb12e85",
   "metadata": {},
   "outputs": [],
   "source": [
    "world = world.set_index(\"name\")"
   ]
  },
  {
   "cell_type": "code",
   "execution_count": null,
   "id": "70c4908c",
   "metadata": {},
   "outputs": [],
   "source": [
    "world[\"Profit\"] = data.groupby(\"State\")[\"Profit\"].mean()\n",
    "world[\"Sales\"] = data.groupby(\"State\")[\"Sales\"].mean()\n",
    "world[\"Sales\"] = np.log(world[\"Sales\"])"
   ]
  },
  {
   "cell_type": "code",
   "execution_count": null,
   "id": "32c56ee4",
   "metadata": {},
   "outputs": [],
   "source": [
    "world.explore(column=\"Sales\")"
   ]
  },
  {
   "cell_type": "code",
   "execution_count": null,
   "id": "d17691e4",
   "metadata": {},
   "outputs": [],
   "source": []
  }
 ],
 "metadata": {
  "kernelspec": {
   "display_name": "sales-env",
   "language": "python",
   "name": "python3"
  },
  "language_info": {
   "codemirror_mode": {
    "name": "ipython",
    "version": 3
   },
   "file_extension": ".py",
   "mimetype": "text/x-python",
   "name": "python",
   "nbconvert_exporter": "python",
   "pygments_lexer": "ipython3",
   "version": "3.13.5"
  }
 },
 "nbformat": 4,
 "nbformat_minor": 5
}
